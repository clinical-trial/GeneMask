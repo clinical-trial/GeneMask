{
 "cells": [
  {
   "cell_type": "code",
   "execution_count": 1,
   "metadata": {},
   "outputs": [],
   "source": [
    "import pandas as pd\n",
    "import pickle\n",
    "import os\n",
    "from multiprocessing import Manager, Pool\n",
    "from operator import mul\n",
    "from functools import reduce\n",
    "from math import log\n",
    "# from transformers import AutoTokenizer\n",
    "import gc\n",
    "import sys\n",
    "from tqdm import tqdm\n",
    "import math"
   ]
  },
  {
   "cell_type": "code",
   "execution_count": 2,
   "metadata": {},
   "outputs": [
    {
     "name": "stdout",
     "output_type": "stream",
     "text": [
      "main process PID:  31170\n"
     ]
    }
   ],
   "source": [
    "print('main process PID: ', os.getpid())\n",
    "\n",
    "ngram_range = [2, 3, 4, 5, 6, 7, 8, 9, 10] \n",
    "min_occurrences = 101\n",
    "pool_size = 8\n",
    "pmi_data_folder = './pmi/pmi_data' # updated to anonymize"
   ]
  },
  {
   "cell_type": "code",
   "execution_count": 43,
   "metadata": {},
   "outputs": [
    {
     "name": "stdout",
     "output_type": "stream",
     "text": [
      "-3.248176839782861\n"
     ]
    }
   ],
   "source": [
    "print(freq_log_prob_dict['AT'])"
   ]
  },
  {
   "cell_type": "code",
   "execution_count": 3,
   "metadata": {},
   "outputs": [
    {
     "name": "stdout",
     "output_type": "stream",
     "text": [
      "loading ngram_frequency file\n",
      "load done, next transfer df to dict and move it to manager\n",
      "  ngram  frequency\n",
      "0     N   20316135\n",
      "1     T  199065398\n",
      "2     A  198550581\n",
      "3     C  135606706\n",
      "4     G  135906690\n",
      "Transfer over. Prepare to calculate PMI scores\n"
     ]
    }
   ],
   "source": [
    "manager = Manager()\n",
    "lock = manager.Lock()\n",
    "pmi = manager.dict()\n",
    "\n",
    "print('loading ngram_frequency file')\n",
    "df = pd.read_pickle(f'{pmi_data_folder}/ngram_frequencies.pkl')\n",
    "print('load done, next transfer df to dict and move it to manager')\n",
    "\n",
    "print(df.head())\n",
    "\n",
    "gram_dict = manager.dict(df.set_index('ngram').to_dict()['frequency'])\n",
    "print('Transfer over. Prepare to calculate PMI scores')"
   ]
  },
  {
   "cell_type": "code",
   "execution_count": 4,
   "metadata": {},
   "outputs": [],
   "source": [
    "for ngram in gram_dict.keys():\n",
    "    if gram_dict[ngram] < 101 or 'N' in ngram:\n",
    "        gram_dict.pop(ngram)"
   ]
  },
  {
   "cell_type": "code",
   "execution_count": 5,
   "metadata": {},
   "outputs": [
    {
     "name": "stdout",
     "output_type": "stream",
     "text": [
      "198550581\n"
     ]
    }
   ],
   "source": [
    "print(gram_dict['A'])"
   ]
  },
  {
   "cell_type": "code",
   "execution_count": 6,
   "metadata": {},
   "outputs": [],
   "source": [
    "from collections import defaultdict\n",
    "discounting_factor= defaultdict(float)"
   ]
  },
  {
   "cell_type": "code",
   "execution_count": 7,
   "metadata": {},
   "outputs": [
    {
     "name": "stderr",
     "output_type": "stream",
     "text": [
      "100%|██████████| 1049598/1049598 [01:16<00:00, 13678.17it/s]\n"
     ]
    }
   ],
   "source": [
    "for ngram in tqdm(gram_dict.keys()):\n",
    "    discounting_factor[ngram]= math.log(gram_dict[ngram])/(math.log(gram_dict[ngram])+math.log(101))"
   ]
  },
  {
   "cell_type": "code",
   "execution_count": 8,
   "metadata": {},
   "outputs": [
    {
     "name": "stdout",
     "output_type": "stream",
     "text": [
      "0.8054471058684937 0.6338270601245872\n"
     ]
    }
   ],
   "source": [
    "print(discounting_factor['A'], discounting_factor['TCGCGA'])"
   ]
  },
  {
   "cell_type": "code",
   "execution_count": 9,
   "metadata": {},
   "outputs": [
    {
     "name": "stdout",
     "output_type": "stream",
     "text": [
      "13926219 2947\n"
     ]
    }
   ],
   "source": [
    "print(gram_dict['ATA'], gram_dict['TCGCGA'])"
   ]
  },
  {
   "cell_type": "code",
   "execution_count": 10,
   "metadata": {},
   "outputs": [
    {
     "data": {
      "text/html": [
       "<div>\n",
       "<style scoped>\n",
       "    .dataframe tbody tr th:only-of-type {\n",
       "        vertical-align: middle;\n",
       "    }\n",
       "\n",
       "    .dataframe tbody tr th {\n",
       "        vertical-align: top;\n",
       "    }\n",
       "\n",
       "    .dataframe thead th {\n",
       "        text-align: right;\n",
       "    }\n",
       "</style>\n",
       "<table border=\"1\" class=\"dataframe\">\n",
       "  <thead>\n",
       "    <tr style=\"text-align: right;\">\n",
       "      <th></th>\n",
       "      <th>ngram</th>\n",
       "      <th>naive-pmi</th>\n",
       "      <th>true-pmi</th>\n",
       "      <th>dp-true-pmi</th>\n",
       "    </tr>\n",
       "  </thead>\n",
       "  <tbody>\n",
       "    <tr>\n",
       "      <th>0</th>\n",
       "      <td>ACACACACAC</td>\n",
       "      <td>11.802667</td>\n",
       "      <td>1.825503</td>\n",
       "      <td>8.296317</td>\n",
       "    </tr>\n",
       "    <tr>\n",
       "      <th>1</th>\n",
       "      <td>GTGTGTGTGT</td>\n",
       "      <td>11.793167</td>\n",
       "      <td>2.094753</td>\n",
       "      <td>8.295802</td>\n",
       "    </tr>\n",
       "    <tr>\n",
       "      <th>2</th>\n",
       "      <td>GCACTCCAGC</td>\n",
       "      <td>11.723549</td>\n",
       "      <td>2.204254</td>\n",
       "      <td>8.231116</td>\n",
       "    </tr>\n",
       "    <tr>\n",
       "      <th>3</th>\n",
       "      <td>GCTGGAGTGC</td>\n",
       "      <td>11.717789</td>\n",
       "      <td>2.220593</td>\n",
       "      <td>8.227502</td>\n",
       "    </tr>\n",
       "    <tr>\n",
       "      <th>4</th>\n",
       "      <td>CCTCAGCCTC</td>\n",
       "      <td>12.117446</td>\n",
       "      <td>2.178819</td>\n",
       "      <td>8.095604</td>\n",
       "    </tr>\n",
       "  </tbody>\n",
       "</table>\n",
       "</div>"
      ],
      "text/plain": [
       "        ngram  naive-pmi  true-pmi  dp-true-pmi\n",
       "0  ACACACACAC  11.802667  1.825503     8.296317\n",
       "1  GTGTGTGTGT  11.793167  2.094753     8.295802\n",
       "2  GCACTCCAGC  11.723549  2.204254     8.231116\n",
       "3  GCTGGAGTGC  11.717789  2.220593     8.227502\n",
       "4  CCTCAGCCTC  12.117446  2.178819     8.095604"
      ]
     },
     "execution_count": 10,
     "metadata": {},
     "output_type": "execute_result"
    }
   ],
   "source": [
    "pmi_scores_data= pd.read_csv('pmi_scores_dp_final.csv') # name changed\n",
    "pmi_scores_data.head()"
   ]
  },
  {
   "cell_type": "code",
   "execution_count": 11,
   "metadata": {},
   "outputs": [
    {
     "name": "stdout",
     "output_type": "stream",
     "text": [
      "(1048575, 4)\n"
     ]
    }
   ],
   "source": [
    "print(pmi_scores_data.shape)"
   ]
  },
  {
   "cell_type": "code",
   "execution_count": 12,
   "metadata": {},
   "outputs": [
    {
     "name": "stderr",
     "output_type": "stream",
     "text": [
      "100%|██████████| 1048575/1048575 [00:53<00:00, 19777.63it/s]\n"
     ]
    }
   ],
   "source": [
    "norm_dp_true_pmi= []\n",
    "\n",
    "for row_id in tqdm(range(pmi_scores_data.shape[0])):\n",
    "    ngram_seq= pmi_scores_data.iloc[row_id, 0]\n",
    "    norm_score= pmi_scores_data.iloc[row_id, 3]* discounting_factor[ngram_seq]\n",
    "    norm_dp_true_pmi.append(norm_score)"
   ]
  },
  {
   "cell_type": "code",
   "execution_count": 13,
   "metadata": {},
   "outputs": [
    {
     "name": "stdout",
     "output_type": "stream",
     "text": [
      "1048575\n"
     ]
    }
   ],
   "source": [
    "print(len(norm_dp_true_pmi))"
   ]
  },
  {
   "cell_type": "code",
   "execution_count": 14,
   "metadata": {},
   "outputs": [
    {
     "data": {
      "text/html": [
       "<div>\n",
       "<style scoped>\n",
       "    .dataframe tbody tr th:only-of-type {\n",
       "        vertical-align: middle;\n",
       "    }\n",
       "\n",
       "    .dataframe tbody tr th {\n",
       "        vertical-align: top;\n",
       "    }\n",
       "\n",
       "    .dataframe thead th {\n",
       "        text-align: right;\n",
       "    }\n",
       "</style>\n",
       "<table border=\"1\" class=\"dataframe\">\n",
       "  <thead>\n",
       "    <tr style=\"text-align: right;\">\n",
       "      <th></th>\n",
       "      <th>ngram</th>\n",
       "      <th>naive-pmi</th>\n",
       "      <th>true-pmi</th>\n",
       "      <th>dp-true-pmi</th>\n",
       "      <th>norm_dp_true_pmi</th>\n",
       "    </tr>\n",
       "  </thead>\n",
       "  <tbody>\n",
       "    <tr>\n",
       "      <th>0</th>\n",
       "      <td>ACACACACAC</td>\n",
       "      <td>11.802667</td>\n",
       "      <td>1.825503</td>\n",
       "      <td>8.296317</td>\n",
       "      <td>5.964404</td>\n",
       "    </tr>\n",
       "    <tr>\n",
       "      <th>1</th>\n",
       "      <td>GTGTGTGTGT</td>\n",
       "      <td>11.793167</td>\n",
       "      <td>2.094753</td>\n",
       "      <td>8.295802</td>\n",
       "      <td>5.966038</td>\n",
       "    </tr>\n",
       "    <tr>\n",
       "      <th>2</th>\n",
       "      <td>GCACTCCAGC</td>\n",
       "      <td>11.723549</td>\n",
       "      <td>2.204254</td>\n",
       "      <td>8.231116</td>\n",
       "      <td>5.793672</td>\n",
       "    </tr>\n",
       "    <tr>\n",
       "      <th>3</th>\n",
       "      <td>GCTGGAGTGC</td>\n",
       "      <td>11.717789</td>\n",
       "      <td>2.220593</td>\n",
       "      <td>8.227502</td>\n",
       "      <td>5.791656</td>\n",
       "    </tr>\n",
       "    <tr>\n",
       "      <th>4</th>\n",
       "      <td>CCTCAGCCTC</td>\n",
       "      <td>12.117446</td>\n",
       "      <td>2.178819</td>\n",
       "      <td>8.095604</td>\n",
       "      <td>5.757429</td>\n",
       "    </tr>\n",
       "  </tbody>\n",
       "</table>\n",
       "</div>"
      ],
      "text/plain": [
       "        ngram  naive-pmi  true-pmi  dp-true-pmi  norm_dp_true_pmi\n",
       "0  ACACACACAC  11.802667  1.825503     8.296317          5.964404\n",
       "1  GTGTGTGTGT  11.793167  2.094753     8.295802          5.966038\n",
       "2  GCACTCCAGC  11.723549  2.204254     8.231116          5.793672\n",
       "3  GCTGGAGTGC  11.717789  2.220593     8.227502          5.791656\n",
       "4  CCTCAGCCTC  12.117446  2.178819     8.095604          5.757429"
      ]
     },
     "execution_count": 14,
     "metadata": {},
     "output_type": "execute_result"
    }
   ],
   "source": [
    "pmi_scores_data= pmi_scores_data.assign(norm_dp_true_pmi= norm_dp_true_pmi)\n",
    "pmi_scores_data.head()"
   ]
  },
  {
   "cell_type": "code",
   "execution_count": 15,
   "metadata": {},
   "outputs": [],
   "source": [
    "pmi_scores_data.to_csv('norm_pmi_scores_dp_final.csv', index=False) # name updated to anonymize"
   ]
  },
  {
   "cell_type": "code",
   "execution_count": 1,
   "metadata": {},
   "outputs": [],
   "source": [
    "import pandas as pd\n",
    "import pickle"
   ]
  },
  {
   "cell_type": "code",
   "execution_count": 2,
   "metadata": {},
   "outputs": [
    {
     "data": {
      "text/html": [
       "<div>\n",
       "<style scoped>\n",
       "    .dataframe tbody tr th:only-of-type {\n",
       "        vertical-align: middle;\n",
       "    }\n",
       "\n",
       "    .dataframe tbody tr th {\n",
       "        vertical-align: top;\n",
       "    }\n",
       "\n",
       "    .dataframe thead th {\n",
       "        text-align: right;\n",
       "    }\n",
       "</style>\n",
       "<table border=\"1\" class=\"dataframe\">\n",
       "  <thead>\n",
       "    <tr style=\"text-align: right;\">\n",
       "      <th></th>\n",
       "      <th>ngram</th>\n",
       "      <th>naive.pmi</th>\n",
       "      <th>true.pmi</th>\n",
       "      <th>dp.true.pmi</th>\n",
       "      <th>norm_dp_true_pmi</th>\n",
       "      <th>ngram_size</th>\n",
       "      <th>naive.pmi.rank</th>\n",
       "      <th>dp.true.pmi.rank</th>\n",
       "      <th>norm_dp_true_pmi_rank</th>\n",
       "      <th>adv_pmi_rank_drop</th>\n",
       "      <th>norm_adv_pmi_rank_drop</th>\n",
       "    </tr>\n",
       "  </thead>\n",
       "  <tbody>\n",
       "    <tr>\n",
       "      <th>0</th>\n",
       "      <td>GTGTGTGTGT</td>\n",
       "      <td>11.793167</td>\n",
       "      <td>2.094753</td>\n",
       "      <td>8.295802</td>\n",
       "      <td>5.966038</td>\n",
       "      <td>10</td>\n",
       "      <td>19</td>\n",
       "      <td>2</td>\n",
       "      <td>1</td>\n",
       "      <td>-17</td>\n",
       "      <td>-1</td>\n",
       "    </tr>\n",
       "    <tr>\n",
       "      <th>1</th>\n",
       "      <td>ACACACACAC</td>\n",
       "      <td>11.802667</td>\n",
       "      <td>1.825503</td>\n",
       "      <td>8.296317</td>\n",
       "      <td>5.964404</td>\n",
       "      <td>10</td>\n",
       "      <td>14</td>\n",
       "      <td>1</td>\n",
       "      <td>2</td>\n",
       "      <td>-13</td>\n",
       "      <td>1</td>\n",
       "    </tr>\n",
       "    <tr>\n",
       "      <th>2</th>\n",
       "      <td>GCACTCCAGC</td>\n",
       "      <td>11.723549</td>\n",
       "      <td>2.204254</td>\n",
       "      <td>8.231116</td>\n",
       "      <td>5.793672</td>\n",
       "      <td>10</td>\n",
       "      <td>27</td>\n",
       "      <td>3</td>\n",
       "      <td>3</td>\n",
       "      <td>-24</td>\n",
       "      <td>0</td>\n",
       "    </tr>\n",
       "    <tr>\n",
       "      <th>3</th>\n",
       "      <td>GCTGGAGTGC</td>\n",
       "      <td>11.717789</td>\n",
       "      <td>2.220593</td>\n",
       "      <td>8.227502</td>\n",
       "      <td>5.791656</td>\n",
       "      <td>10</td>\n",
       "      <td>29</td>\n",
       "      <td>4</td>\n",
       "      <td>4</td>\n",
       "      <td>-25</td>\n",
       "      <td>0</td>\n",
       "    </tr>\n",
       "    <tr>\n",
       "      <th>4</th>\n",
       "      <td>CCTCAGCCTC</td>\n",
       "      <td>12.117446</td>\n",
       "      <td>2.178819</td>\n",
       "      <td>8.095604</td>\n",
       "      <td>5.757429</td>\n",
       "      <td>10</td>\n",
       "      <td>5</td>\n",
       "      <td>5</td>\n",
       "      <td>5</td>\n",
       "      <td>0</td>\n",
       "      <td>0</td>\n",
       "    </tr>\n",
       "  </tbody>\n",
       "</table>\n",
       "</div>"
      ],
      "text/plain": [
       "        ngram  naive.pmi  true.pmi  dp.true.pmi  norm_dp_true_pmi  ngram_size  \\\n",
       "0  GTGTGTGTGT  11.793167  2.094753     8.295802          5.966038          10   \n",
       "1  ACACACACAC  11.802667  1.825503     8.296317          5.964404          10   \n",
       "2  GCACTCCAGC  11.723549  2.204254     8.231116          5.793672          10   \n",
       "3  GCTGGAGTGC  11.717789  2.220593     8.227502          5.791656          10   \n",
       "4  CCTCAGCCTC  12.117446  2.178819     8.095604          5.757429          10   \n",
       "\n",
       "   naive.pmi.rank  dp.true.pmi.rank  norm_dp_true_pmi_rank  adv_pmi_rank_drop  \\\n",
       "0              19                 2                      1                -17   \n",
       "1              14                 1                      2                -13   \n",
       "2              27                 3                      3                -24   \n",
       "3              29                 4                      4                -25   \n",
       "4               5                 5                      5                  0   \n",
       "\n",
       "   norm_adv_pmi_rank_drop  \n",
       "0                      -1  \n",
       "1                       1  \n",
       "2                       0  \n",
       "3                       0  \n",
       "4                       0  "
      ]
     },
     "execution_count": 2,
     "metadata": {},
     "output_type": "execute_result"
    }
   ],
   "source": [
    "pmi_scores_data= pd.read_csv('final_vocab_2ndAugust_100K.csv')\n",
    "pmi_scores_data.head()"
   ]
  },
  {
   "cell_type": "code",
   "execution_count": 3,
   "metadata": {},
   "outputs": [
    {
     "data": {
      "text/html": [
       "<div>\n",
       "<style scoped>\n",
       "    .dataframe tbody tr th:only-of-type {\n",
       "        vertical-align: middle;\n",
       "    }\n",
       "\n",
       "    .dataframe tbody tr th {\n",
       "        vertical-align: top;\n",
       "    }\n",
       "\n",
       "    .dataframe thead th {\n",
       "        text-align: right;\n",
       "    }\n",
       "</style>\n",
       "<table border=\"1\" class=\"dataframe\">\n",
       "  <thead>\n",
       "    <tr style=\"text-align: right;\">\n",
       "      <th></th>\n",
       "      <th>ngram</th>\n",
       "      <th>naive.pmi</th>\n",
       "      <th>true.pmi</th>\n",
       "      <th>dp.true.pmi</th>\n",
       "      <th>norm_dp_true_pmi</th>\n",
       "      <th>ngram_size</th>\n",
       "      <th>naive.pmi.rank</th>\n",
       "      <th>dp.true.pmi.rank</th>\n",
       "      <th>norm_dp_true_pmi_rank</th>\n",
       "      <th>adv_pmi_rank_drop</th>\n",
       "      <th>norm_adv_pmi_rank_drop</th>\n",
       "    </tr>\n",
       "  </thead>\n",
       "  <tbody>\n",
       "    <tr>\n",
       "      <th>47293</th>\n",
       "      <td>CCTCCC</td>\n",
       "      <td>5.346571</td>\n",
       "      <td>1.517800</td>\n",
       "      <td>2.849146</td>\n",
       "      <td>2.103076</td>\n",
       "      <td>6</td>\n",
       "      <td>71560</td>\n",
       "      <td>63232</td>\n",
       "      <td>47294</td>\n",
       "      <td>-8328</td>\n",
       "      <td>-15938</td>\n",
       "    </tr>\n",
       "    <tr>\n",
       "      <th>47960</th>\n",
       "      <td>GGGAGG</td>\n",
       "      <td>5.334066</td>\n",
       "      <td>1.399038</td>\n",
       "      <td>2.835727</td>\n",
       "      <td>2.093004</td>\n",
       "      <td>6</td>\n",
       "      <td>71843</td>\n",
       "      <td>63382</td>\n",
       "      <td>47961</td>\n",
       "      <td>-8461</td>\n",
       "      <td>-15421</td>\n",
       "    </tr>\n",
       "    <tr>\n",
       "      <th>51425</th>\n",
       "      <td>GTGTGT</td>\n",
       "      <td>4.519335</td>\n",
       "      <td>1.177967</td>\n",
       "      <td>2.770652</td>\n",
       "      <td>2.042932</td>\n",
       "      <td>6</td>\n",
       "      <td>92138</td>\n",
       "      <td>64077</td>\n",
       "      <td>51426</td>\n",
       "      <td>-28061</td>\n",
       "      <td>-12651</td>\n",
       "    </tr>\n",
       "    <tr>\n",
       "      <th>52687</th>\n",
       "      <td>CCCAGC</td>\n",
       "      <td>5.248139</td>\n",
       "      <td>1.364859</td>\n",
       "      <td>2.751367</td>\n",
       "      <td>2.026842</td>\n",
       "      <td>6</td>\n",
       "      <td>73910</td>\n",
       "      <td>64321</td>\n",
       "      <td>52688</td>\n",
       "      <td>-9589</td>\n",
       "      <td>-11633</td>\n",
       "    </tr>\n",
       "    <tr>\n",
       "      <th>52930</th>\n",
       "      <td>GCTGGG</td>\n",
       "      <td>5.241092</td>\n",
       "      <td>1.173914</td>\n",
       "      <td>2.746890</td>\n",
       "      <td>2.023631</td>\n",
       "      <td>6</td>\n",
       "      <td>74109</td>\n",
       "      <td>64373</td>\n",
       "      <td>52931</td>\n",
       "      <td>-9736</td>\n",
       "      <td>-11442</td>\n",
       "    </tr>\n",
       "  </tbody>\n",
       "</table>\n",
       "</div>"
      ],
      "text/plain": [
       "        ngram  naive.pmi  true.pmi  dp.true.pmi  norm_dp_true_pmi  ngram_size  \\\n",
       "47293  CCTCCC   5.346571  1.517800     2.849146          2.103076           6   \n",
       "47960  GGGAGG   5.334066  1.399038     2.835727          2.093004           6   \n",
       "51425  GTGTGT   4.519335  1.177967     2.770652          2.042932           6   \n",
       "52687  CCCAGC   5.248139  1.364859     2.751367          2.026842           6   \n",
       "52930  GCTGGG   5.241092  1.173914     2.746890          2.023631           6   \n",
       "\n",
       "       naive.pmi.rank  dp.true.pmi.rank  norm_dp_true_pmi_rank  \\\n",
       "47293           71560             63232                  47294   \n",
       "47960           71843             63382                  47961   \n",
       "51425           92138             64077                  51426   \n",
       "52687           73910             64321                  52688   \n",
       "52930           74109             64373                  52931   \n",
       "\n",
       "       adv_pmi_rank_drop  norm_adv_pmi_rank_drop  \n",
       "47293              -8328                  -15938  \n",
       "47960              -8461                  -15421  \n",
       "51425             -28061                  -12651  \n",
       "52687              -9589                  -11633  \n",
       "52930              -9736                  -11442  "
      ]
     },
     "execution_count": 3,
     "metadata": {},
     "output_type": "execute_result"
    }
   ],
   "source": [
    "pmi_scores_data6= pmi_scores_data[pmi_scores_data['ngram_size']==6]\n",
    "pmi_scores_data6= pmi_scores_data6.sort_values(by=['norm_dp_true_pmi'], ascending=False)\n",
    "pmi_scores_data6.head()"
   ]
  },
  {
   "cell_type": "code",
   "execution_count": 4,
   "metadata": {},
   "outputs": [
    {
     "data": {
      "text/html": [
       "<div>\n",
       "<style scoped>\n",
       "    .dataframe tbody tr th:only-of-type {\n",
       "        vertical-align: middle;\n",
       "    }\n",
       "\n",
       "    .dataframe tbody tr th {\n",
       "        vertical-align: top;\n",
       "    }\n",
       "\n",
       "    .dataframe thead th {\n",
       "        text-align: right;\n",
       "    }\n",
       "</style>\n",
       "<table border=\"1\" class=\"dataframe\">\n",
       "  <thead>\n",
       "    <tr style=\"text-align: right;\">\n",
       "      <th></th>\n",
       "      <th>ngram</th>\n",
       "      <th>naive.pmi</th>\n",
       "      <th>true.pmi</th>\n",
       "      <th>dp.true.pmi</th>\n",
       "      <th>norm_dp_true_pmi</th>\n",
       "      <th>ngram_size</th>\n",
       "      <th>naive.pmi.rank</th>\n",
       "      <th>dp.true.pmi.rank</th>\n",
       "      <th>norm_dp_true_pmi_rank</th>\n",
       "      <th>adv_pmi_rank_drop</th>\n",
       "      <th>norm_adv_pmi_rank_drop</th>\n",
       "      <th>norm_pmi_rank_rel</th>\n",
       "    </tr>\n",
       "  </thead>\n",
       "  <tbody>\n",
       "    <tr>\n",
       "      <th>47293</th>\n",
       "      <td>CCTCCC</td>\n",
       "      <td>5.346571</td>\n",
       "      <td>1.517800</td>\n",
       "      <td>2.849146</td>\n",
       "      <td>2.103076</td>\n",
       "      <td>6</td>\n",
       "      <td>71560</td>\n",
       "      <td>63232</td>\n",
       "      <td>47294</td>\n",
       "      <td>-8328</td>\n",
       "      <td>-15938</td>\n",
       "      <td>1</td>\n",
       "    </tr>\n",
       "    <tr>\n",
       "      <th>47960</th>\n",
       "      <td>GGGAGG</td>\n",
       "      <td>5.334066</td>\n",
       "      <td>1.399038</td>\n",
       "      <td>2.835727</td>\n",
       "      <td>2.093004</td>\n",
       "      <td>6</td>\n",
       "      <td>71843</td>\n",
       "      <td>63382</td>\n",
       "      <td>47961</td>\n",
       "      <td>-8461</td>\n",
       "      <td>-15421</td>\n",
       "      <td>2</td>\n",
       "    </tr>\n",
       "    <tr>\n",
       "      <th>51425</th>\n",
       "      <td>GTGTGT</td>\n",
       "      <td>4.519335</td>\n",
       "      <td>1.177967</td>\n",
       "      <td>2.770652</td>\n",
       "      <td>2.042932</td>\n",
       "      <td>6</td>\n",
       "      <td>92138</td>\n",
       "      <td>64077</td>\n",
       "      <td>51426</td>\n",
       "      <td>-28061</td>\n",
       "      <td>-12651</td>\n",
       "      <td>3</td>\n",
       "    </tr>\n",
       "    <tr>\n",
       "      <th>52687</th>\n",
       "      <td>CCCAGC</td>\n",
       "      <td>5.248139</td>\n",
       "      <td>1.364859</td>\n",
       "      <td>2.751367</td>\n",
       "      <td>2.026842</td>\n",
       "      <td>6</td>\n",
       "      <td>73910</td>\n",
       "      <td>64321</td>\n",
       "      <td>52688</td>\n",
       "      <td>-9589</td>\n",
       "      <td>-11633</td>\n",
       "      <td>4</td>\n",
       "    </tr>\n",
       "    <tr>\n",
       "      <th>52930</th>\n",
       "      <td>GCTGGG</td>\n",
       "      <td>5.241092</td>\n",
       "      <td>1.173914</td>\n",
       "      <td>2.746890</td>\n",
       "      <td>2.023631</td>\n",
       "      <td>6</td>\n",
       "      <td>74109</td>\n",
       "      <td>64373</td>\n",
       "      <td>52931</td>\n",
       "      <td>-9736</td>\n",
       "      <td>-11442</td>\n",
       "      <td>5</td>\n",
       "    </tr>\n",
       "  </tbody>\n",
       "</table>\n",
       "</div>"
      ],
      "text/plain": [
       "        ngram  naive.pmi  true.pmi  dp.true.pmi  norm_dp_true_pmi  ngram_size  \\\n",
       "47293  CCTCCC   5.346571  1.517800     2.849146          2.103076           6   \n",
       "47960  GGGAGG   5.334066  1.399038     2.835727          2.093004           6   \n",
       "51425  GTGTGT   4.519335  1.177967     2.770652          2.042932           6   \n",
       "52687  CCCAGC   5.248139  1.364859     2.751367          2.026842           6   \n",
       "52930  GCTGGG   5.241092  1.173914     2.746890          2.023631           6   \n",
       "\n",
       "       naive.pmi.rank  dp.true.pmi.rank  norm_dp_true_pmi_rank  \\\n",
       "47293           71560             63232                  47294   \n",
       "47960           71843             63382                  47961   \n",
       "51425           92138             64077                  51426   \n",
       "52687           73910             64321                  52688   \n",
       "52930           74109             64373                  52931   \n",
       "\n",
       "       adv_pmi_rank_drop  norm_adv_pmi_rank_drop  norm_pmi_rank_rel  \n",
       "47293              -8328                  -15938                  1  \n",
       "47960              -8461                  -15421                  2  \n",
       "51425             -28061                  -12651                  3  \n",
       "52687              -9589                  -11633                  4  \n",
       "52930              -9736                  -11442                  5  "
      ]
     },
     "execution_count": 4,
     "metadata": {},
     "output_type": "execute_result"
    }
   ],
   "source": [
    "pmi_scores_data6= pmi_scores_data6.assign(norm_pmi_rank_rel= range(1, (pmi_scores_data6.shape[0]+1)))\n",
    "pmi_scores_data6.head()"
   ]
  },
  {
   "cell_type": "code",
   "execution_count": 5,
   "metadata": {},
   "outputs": [
    {
     "name": "stdout",
     "output_type": "stream",
     "text": [
      "(4096, 12)\n"
     ]
    }
   ],
   "source": [
    "print(pmi_scores_data6.shape)"
   ]
  },
  {
   "cell_type": "code",
   "execution_count": 6,
   "metadata": {},
   "outputs": [],
   "source": [
    "pmi_scores_data6.to_csv('final_6mer_pmiscore_ranking_16thSept.csv', index=False)"
   ]
  },
  {
   "cell_type": "code",
   "execution_count": 19,
   "metadata": {},
   "outputs": [],
   "source": [
    "from collections import defaultdict\n",
    "\n",
    "norm_pmi_rank_dict= defaultdict(int)\n",
    "\n",
    "for row_id in range(pmi_scores_data6.shape[0]):\n",
    "    norm_pmi_rank_dict[pmi_scores_data6.iloc[row_id, 0]]= pmi_scores_data6.iloc[row_id, 11]"
   ]
  },
  {
   "cell_type": "code",
   "execution_count": 23,
   "metadata": {},
   "outputs": [],
   "source": [
    "#print(norm_pmi_rank_dict)\n",
    "with open('./pmi/pmi_data/seq_to_pmi_rank.pkl', \"wb\") as file: # path and filename updated to anonymize\n",
    "    pickle.dump(norm_pmi_rank_dict, file, protocol=pickle.HIGHEST_PROTOCOL)"
   ]
  }
 ],
 "metadata": {
  "kernelspec": {
   "display_name": "Python 3.6.13 ('dnabert')",
   "language": "python",
   "name": "python3"
  },
  "language_info": {
   "codemirror_mode": {
    "name": "ipython",
    "version": 3
   },
   "file_extension": ".py",
   "mimetype": "text/x-python",
   "name": "python",
   "nbconvert_exporter": "python",
   "pygments_lexer": "ipython3",
   "version": "3.6.13"
  },
  "orig_nbformat": 4,
  "vscode": {
   "interpreter": {
    "hash": "f5f8b864f00285f87bff7a6181a32c64bdf9bfab47497e97059dffafd4fea1b1"
   }
  }
 },
 "nbformat": 4,
 "nbformat_minor": 2
}
